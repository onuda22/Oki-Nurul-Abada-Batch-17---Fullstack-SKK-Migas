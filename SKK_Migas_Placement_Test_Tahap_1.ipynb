{
  "nbformat": 4,
  "nbformat_minor": 0,
  "metadata": {
    "colab": {
      "provenance": [],
      "authorship_tag": "ABX9TyMi53epzJSkvwbomn8m4Eia",
      "include_colab_link": true
    },
    "kernelspec": {
      "name": "python3",
      "display_name": "Python 3"
    },
    "language_info": {
      "name": "python"
    }
  },
  "cells": [
    {
      "cell_type": "markdown",
      "metadata": {
        "id": "view-in-github",
        "colab_type": "text"
      },
      "source": [
        "<a href=\"https://colab.research.google.com/github/onuda22/Oki-Nurul-Abada-Batch-17---Fullstack-SKK-Migas/blob/main/SKK_Migas_Placement_Test_Tahap_1.ipynb\" target=\"_parent\"><img src=\"https://colab.research.google.com/assets/colab-badge.svg\" alt=\"Open In Colab\"/></a>"
      ]
    },
    {
      "cell_type": "code",
      "execution_count": 27,
      "metadata": {
        "id": "OwT1F1uQsj7J"
      },
      "outputs": [],
      "source": [
        "#Import dictionary Counter untuk menghitung setiap banyaknya karakter(sebagai Keys)\n",
        "#Counter menyimpan object(yang dihitung) sebagai key\n",
        "#   dan menyimpan counts(hasil hitung) sebagai value\n",
        "from typing import Counter\n",
        "\n",
        "#Definisikan fungsi untuk proses yang akan dilakukan\n",
        "def grouping_chars(array):\n",
        "  x = \"\" #membuat variabel penampung awal\n",
        "\n",
        "  #Melakukan nested looping untuk mengakses setiap karakter dari array\n",
        "  for i in range(len(array)):\n",
        "    for char in array[i]:\n",
        "      x += char #Menyimpan setiap karakter yang diakses ke dalam variabel penampung\n",
        "\n",
        "  #Menghitung setiap karakter menggunakan fungsi Counter\n",
        "  count_char = Counter(x)\n",
        "\n",
        "  #Mengurutkan setiap karakter berdasarkan banyak karakter\n",
        "  sort_chars = sorted(count_char.items(), key=lambda item: (-item[1], item[0]))\n",
        "\n",
        "  #Mencetak hasil dari setiap karakter yang telah diurutkan\n",
        "  print(\"\".join([char for char, _ in sort_chars]))"
      ]
    },
    {
      "cell_type": "code",
      "source": [
        "#Test Pertama\n",
        "input1 = [\"Abc\", \"bCd\"]\n",
        "grouping_chars(input1)"
      ],
      "metadata": {
        "colab": {
          "base_uri": "https://localhost:8080/"
        },
        "id": "qLh2h4I9AB6l",
        "outputId": "6c7a0253-f76d-45af-a1a5-f4bfe16a1ac6"
      },
      "execution_count": 31,
      "outputs": [
        {
          "output_type": "stream",
          "name": "stdout",
          "text": [
            "bACcd\n"
          ]
        }
      ]
    },
    {
      "cell_type": "code",
      "source": [
        "#Test Kedua\n",
        "input2 = [\"Oke\", \"One\"]\n",
        "grouping_chars(input2)"
      ],
      "metadata": {
        "colab": {
          "base_uri": "https://localhost:8080/"
        },
        "id": "Uz_4PgOwAncU",
        "outputId": "44fcb86e-1537-4a79-e0c0-02d67e15e235"
      },
      "execution_count": 32,
      "outputs": [
        {
          "output_type": "stream",
          "name": "stdout",
          "text": [
            "Oekn\n"
          ]
        }
      ]
    },
    {
      "cell_type": "code",
      "source": [
        "#Test Ketiga\n",
        "input3 = [\"Pendanaan\", \"Terproteksi\", \"Untuk\", \"Dampak\", \"Berarti\"]\n",
        "grouping_chars(input3)"
      ],
      "metadata": {
        "colab": {
          "base_uri": "https://localhost:8080/"
        },
        "id": "yW8Vo2cIAxAi",
        "outputId": "2b7c6d74-4010-4f9d-db1b-3f51dbb4c350"
      },
      "execution_count": 33,
      "outputs": [
        {
          "output_type": "stream",
          "name": "stdout",
          "text": [
            "aenrktipBDPTUdmosu\n"
          ]
        }
      ]
    },
    {
      "cell_type": "code",
      "source": [
        "#Test Random\n",
        "grouping_chars([\"patah\",\"Daun\",\"Hari\"])"
      ],
      "metadata": {
        "colab": {
          "base_uri": "https://localhost:8080/"
        },
        "id": "9dYFlkky76Yg",
        "outputId": "2d514ee2-74ab-441a-a70d-1b5ded9b3b8d"
      },
      "execution_count": 28,
      "outputs": [
        {
          "output_type": "stream",
          "name": "stdout",
          "text": [
            "aDHhinprtu\n"
          ]
        }
      ]
    }
  ]
}